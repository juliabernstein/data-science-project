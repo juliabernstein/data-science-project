{
 "cells": [
  {
   "cell_type": "markdown",
   "metadata": {},
   "source": [
    "# Data Cleaning for Final Project\n",
    "##### Julie Lee, Julia Bernstein, Nandan Aggarwal"
   ]
  },
  {
   "cell_type": "markdown",
   "metadata": {},
   "source": [
    "### Importing"
   ]
  },
  {
   "cell_type": "markdown",
   "metadata": {},
   "source": [
    "Below, we import pandas, numpy, matplotlib, and seaborn in order to help us with our data cleaning."
   ]
  },
  {
   "cell_type": "code",
   "execution_count": 134,
   "metadata": {},
   "outputs": [],
   "source": [
    "import pandas as pd\n",
    "import numpy as np\n",
    "import matplotlib.pyplot as plt"
   ]
  },
  {
   "cell_type": "markdown",
   "metadata": {},
   "source": [
    "Firstly, we imported our two datasets from [data.world](https://data.world/kcmillersean/billboard-hot-100-1958-2017).\n",
    "\n",
    "The first dataset, which we saved under the name \"dfHS,\" was a .csv file named Hot Stuff.csv. This file contains all 100 songs on the Billboard Hot 100 for each week ranging from 8/2/1958 and 12/28/2019.\n",
    "\n",
    "The other dataset, which we saved under the name \"df100,\" was orginally a .xlsx (Excel) file named Hot 100 Audio Features.xlsx. This file contains characteristics for each song that reached the Billboard Hot 100, pulled directly from Spotify. "
   ]
  },
  {
   "cell_type": "code",
   "execution_count": 135,
   "metadata": {},
   "outputs": [],
   "source": [
    "dfHS = pd.read_csv('Hot Stuff.csv')\n",
    "df100 = pd.read_excel('Hot 100 Audio Features.xlsx')\n"
   ]
  },
  {
   "cell_type": "markdown",
   "metadata": {},
   "source": [
    "We limited the songs to those that are not longer than 6 minutes as there are some songs that are quite long and create outliers when examining the data."
   ]
  },
  {
   "cell_type": "code",
   "execution_count": 136,
   "metadata": {},
   "outputs": [],
   "source": [
    "df100 = df100[df100['spotify_track_duration_ms']<=360000]"
   ]
  },
  {
   "cell_type": "markdown",
   "metadata": {},
   "source": [
    "We added a  \"Year\" column to dfHS because we can manipulate the datetime objects for easier use."
   ]
  },
  {
   "cell_type": "code",
   "execution_count": 137,
   "metadata": {},
   "outputs": [],
   "source": [
    "dfHS['Year'] = pd.to_datetime(dfHS['WeekID'], format = '%m/%d/%Y').dt.year"
   ]
  },
  {
   "cell_type": "markdown",
   "metadata": {},
   "source": [
    "In the next cells, we limit our dataframe to the data in between 2005 and 2015."
   ]
  },
  {
   "cell_type": "code",
   "execution_count": 138,
   "metadata": {},
   "outputs": [],
   "source": [
    "dfHS2 = dfHS[dfHS['Year']>=2005]"
   ]
  },
  {
   "cell_type": "code",
   "execution_count": 139,
   "metadata": {},
   "outputs": [],
   "source": [
    "dfHS2 = dfHS2[dfHS2['Year']<=2015]"
   ]
  },
  {
   "cell_type": "markdown",
   "metadata": {},
   "source": [
    "We drop unneccesary columnns from dfHS, which we felt would not help us with our research questions."
   ]
  },
  {
   "cell_type": "code",
   "execution_count": 140,
   "metadata": {},
   "outputs": [],
   "source": [
    "dfHS2 = dfHS2.drop(columns = ['url', 'WeekID', 'Week Position', 'Instance', 'Previous Week Position'])"
   ]
  },
  {
   "cell_type": "markdown",
   "metadata": {},
   "source": [
    "We group the Hot Stuff data by 'SongID' to get groups of each occurance of a particular song. For example, if a song charted for 30 weeks, there will be 30 occurances of that song in one group. We then created a new dataframe, minimums. In minimums, we found the index of the grouped song where it reached its peak position, in order to only keep that particular occurance. We also wanted to find the last week the song charted, so that we could find the total number of weeks that the song remained in the Hot 100."
   ]
  },
  {
   "cell_type": "code",
   "execution_count": 141,
   "metadata": {},
   "outputs": [],
   "source": [
    "grouped_df = dfHS2.groupby('SongID')\n",
    "minimums = grouped_df['Peak Position'].idxmin()\n",
    "mostweeks = grouped_df['Weeks on Chart'].max().to_frame()"
   ]
  },
  {
   "cell_type": "code",
   "execution_count": 142,
   "metadata": {},
   "outputs": [],
   "source": [
    "dfHS_update = dfHS2.loc[minimums].drop(columns = 'Weeks on Chart')\n",
    "dfHS_final = dfHS_update.merge(mostweeks, on = 'SongID')"
   ]
  },
  {
   "cell_type": "markdown",
   "metadata": {},
   "source": [
    "We create an updated dataframe, `dfHS_update`, which only contains each song once (at its peak). We achieved this by creating an array called minimums, which contained the indices of the songs at their peak position (<strong> NOTE: </strong> we use idxmin because in the context of the Billboard chart, a lower number indicates a higher position). \n",
    "\n",
    "We then drop the old \"weeks on chart\" column in `dfHS_update`, which contains the week that a song peaked, which is not necessarily the total amount of weeks that it spent on the Hot 100, therefore making it unnecessary to our research.\n",
    "- For example, a song might peak in its 6th week, fall to a lower position, but remain on the chart for 10 additional weeks. \n",
    "\n",
    "Thus, we wanted to keeep the total number of weeks that a song spent on the chart, which we did by checking the song's max number of weeks on chart, putting this in a new dataframe, and then merging it with the updated dataframe on SongID."
   ]
  },
  {
   "cell_type": "code",
   "execution_count": 143,
   "metadata": {},
   "outputs": [],
   "source": [
    "df100_updated = df100.drop(columns = ['Performer', 'Song', 'spotify_genre', 'spotify_track_id', 'spotify_track_preview_url', \n",
    "                                      'spotify_track_album', 'spotify_track_explicit', 'key', 'loudness', \n",
    "                                      'speechiness', 'instrumentalness', 'liveness', 'mode', 'time_signature'])"
   ]
  },
  {
   "cell_type": "markdown",
   "metadata": {},
   "source": [
    "We also dropped additional unnecessary or duplicate columns to keep our dataframe concise."
   ]
  },
  {
   "cell_type": "markdown",
   "metadata": {},
   "source": [
    "### Merging\n",
    "\n",
    "We decided to merge \"df100\" and the updated \"dfHS\" (dfHS_updated) into one dataset called \"final_df.\" To do so, we matched the two datasets by their \"SongID\" element, dropped null values and repeated columns, and reset the index. "
   ]
  },
  {
   "cell_type": "code",
   "execution_count": 144,
   "metadata": {},
   "outputs": [],
   "source": [
    "final_df = df100_updated.merge(dfHS_final, on = 'SongID')\n",
    "final_df = final_df.dropna().drop_duplicates('SongID', False).reset_index(drop = True)"
   ]
  },
  {
   "cell_type": "markdown",
   "metadata": {},
   "source": [
    "In this step, we convert out durations from milliseconds to minutes."
   ]
  },
  {
   "cell_type": "code",
   "execution_count": 145,
   "metadata": {},
   "outputs": [],
   "source": [
    "final_df['spotify_track_duration_ms'] = final_df['spotify_track_duration_ms']/60000"
   ]
  },
  {
   "cell_type": "markdown",
   "metadata": {},
   "source": [
    "We multiply small values (those on a 0 to 1 scale) by 100 for a more accurate data visualization when comparing with other attributes ranked out of 100."
   ]
  },
  {
   "cell_type": "code",
   "execution_count": 146,
   "metadata": {},
   "outputs": [],
   "source": [
    "final_df[['danceability', 'energy', 'acousticness', 'valence']] = final_df[['danceability', 'energy', \n",
    "                                                                            'acousticness', 'valence']]*100"
   ]
  },
  {
   "cell_type": "markdown",
   "metadata": {},
   "source": [
    "## Renaming Columns"
   ]
  },
  {
   "cell_type": "code",
   "execution_count": 147,
   "metadata": {},
   "outputs": [],
   "source": [
    "final_df = final_df.rename(columns={\"SongID\": \"song_id\", \n",
    "                                    \"spotify_track_duration_ms\": \"duration_mins\", \n",
    "                                    \"spotify_track_popularity\": \"popularity\", \n",
    "                                    \"Peak Position\": \"peak_position\", \n",
    "                                    \"Song\":\"song\", \"Performer\":\"performer\", \n",
    "                                    \"Year\":\"year\", \"Weeks on Chart\":'total_charting_weeks'})"
   ]
  },
  {
   "cell_type": "markdown",
   "metadata": {},
   "source": [
    "Our final step in our cleaning is adding a true false column for songs that ever broke into the top 10."
   ]
  },
  {
   "cell_type": "code",
   "execution_count": 148,
   "metadata": {},
   "outputs": [],
   "source": [
    "final_df['top10'] = final_df['peak_position'] <= 10"
   ]
  },
  {
   "cell_type": "code",
   "execution_count": 149,
   "metadata": {},
   "outputs": [
    {
     "data": {
      "text/html": [
       "<div>\n",
       "<style scoped>\n",
       "    .dataframe tbody tr th:only-of-type {\n",
       "        vertical-align: middle;\n",
       "    }\n",
       "\n",
       "    .dataframe tbody tr th {\n",
       "        vertical-align: top;\n",
       "    }\n",
       "\n",
       "    .dataframe thead th {\n",
       "        text-align: right;\n",
       "    }\n",
       "</style>\n",
       "<table border=\"1\" class=\"dataframe\">\n",
       "  <thead>\n",
       "    <tr style=\"text-align: right;\">\n",
       "      <th></th>\n",
       "      <th>song_id</th>\n",
       "      <th>duration_mins</th>\n",
       "      <th>popularity</th>\n",
       "      <th>danceability</th>\n",
       "      <th>energy</th>\n",
       "      <th>acousticness</th>\n",
       "      <th>valence</th>\n",
       "      <th>tempo</th>\n",
       "      <th>song</th>\n",
       "      <th>performer</th>\n",
       "      <th>peak_position</th>\n",
       "      <th>year</th>\n",
       "      <th>total_charting_weeks</th>\n",
       "      <th>top10</th>\n",
       "    </tr>\n",
       "  </thead>\n",
       "  <tbody>\n",
       "    <tr>\n",
       "      <th>0</th>\n",
       "      <td>ApplauseLady Gaga</td>\n",
       "      <td>3.538883</td>\n",
       "      <td>71.0</td>\n",
       "      <td>66.9</td>\n",
       "      <td>78.0</td>\n",
       "      <td>2.65</td>\n",
       "      <td>73.8</td>\n",
       "      <td>139.945</td>\n",
       "      <td>Applause</td>\n",
       "      <td>Lady Gaga</td>\n",
       "      <td>4.0</td>\n",
       "      <td>2013</td>\n",
       "      <td>23.0</td>\n",
       "      <td>True</td>\n",
       "    </tr>\n",
       "    <tr>\n",
       "      <th>1</th>\n",
       "      <td>Story Of My LifeOne Direction</td>\n",
       "      <td>4.091550</td>\n",
       "      <td>81.0</td>\n",
       "      <td>60.0</td>\n",
       "      <td>66.3</td>\n",
       "      <td>22.50</td>\n",
       "      <td>28.6</td>\n",
       "      <td>121.070</td>\n",
       "      <td>Story Of My Life</td>\n",
       "      <td>One Direction</td>\n",
       "      <td>6.0</td>\n",
       "      <td>2013</td>\n",
       "      <td>32.0</td>\n",
       "      <td>True</td>\n",
       "    </tr>\n",
       "    <tr>\n",
       "      <th>2</th>\n",
       "      <td>Bang BangJessie J, Ariana Grande &amp; Nicki Minaj</td>\n",
       "      <td>3.323100</td>\n",
       "      <td>79.0</td>\n",
       "      <td>70.6</td>\n",
       "      <td>78.6</td>\n",
       "      <td>26.00</td>\n",
       "      <td>74.9</td>\n",
       "      <td>150.035</td>\n",
       "      <td>Bang Bang</td>\n",
       "      <td>Jessie J, Ariana Grande &amp; Nicki Minaj</td>\n",
       "      <td>3.0</td>\n",
       "      <td>2014</td>\n",
       "      <td>31.0</td>\n",
       "      <td>True</td>\n",
       "    </tr>\n",
       "    <tr>\n",
       "      <th>3</th>\n",
       "      <td>Sorry, Blame It On MeAkon</td>\n",
       "      <td>4.928667</td>\n",
       "      <td>59.0</td>\n",
       "      <td>71.3</td>\n",
       "      <td>64.3</td>\n",
       "      <td>27.60</td>\n",
       "      <td>50.8</td>\n",
       "      <td>176.079</td>\n",
       "      <td>Sorry, Blame It On Me</td>\n",
       "      <td>Akon</td>\n",
       "      <td>7.0</td>\n",
       "      <td>2007</td>\n",
       "      <td>19.0</td>\n",
       "      <td>True</td>\n",
       "    </tr>\n",
       "    <tr>\n",
       "      <th>4</th>\n",
       "      <td>Strange CloudsB.o.B Featuring Lil Wayne</td>\n",
       "      <td>3.771550</td>\n",
       "      <td>61.0</td>\n",
       "      <td>53.1</td>\n",
       "      <td>66.5</td>\n",
       "      <td>6.07</td>\n",
       "      <td>80.0</td>\n",
       "      <td>73.726</td>\n",
       "      <td>Strange Clouds</td>\n",
       "      <td>B.o.B Featuring Lil Wayne</td>\n",
       "      <td>7.0</td>\n",
       "      <td>2011</td>\n",
       "      <td>20.0</td>\n",
       "      <td>True</td>\n",
       "    </tr>\n",
       "  </tbody>\n",
       "</table>\n",
       "</div>"
      ],
      "text/plain": [
       "                                          song_id  duration_mins  popularity  \\\n",
       "0                               ApplauseLady Gaga       3.538883        71.0   \n",
       "1                   Story Of My LifeOne Direction       4.091550        81.0   \n",
       "2  Bang BangJessie J, Ariana Grande & Nicki Minaj       3.323100        79.0   \n",
       "3                       Sorry, Blame It On MeAkon       4.928667        59.0   \n",
       "4         Strange CloudsB.o.B Featuring Lil Wayne       3.771550        61.0   \n",
       "\n",
       "   danceability  energy  acousticness  valence    tempo  \\\n",
       "0          66.9    78.0          2.65     73.8  139.945   \n",
       "1          60.0    66.3         22.50     28.6  121.070   \n",
       "2          70.6    78.6         26.00     74.9  150.035   \n",
       "3          71.3    64.3         27.60     50.8  176.079   \n",
       "4          53.1    66.5          6.07     80.0   73.726   \n",
       "\n",
       "                    song                              performer  \\\n",
       "0               Applause                              Lady Gaga   \n",
       "1       Story Of My Life                          One Direction   \n",
       "2              Bang Bang  Jessie J, Ariana Grande & Nicki Minaj   \n",
       "3  Sorry, Blame It On Me                                   Akon   \n",
       "4         Strange Clouds              B.o.B Featuring Lil Wayne   \n",
       "\n",
       "   peak_position  year  total_charting_weeks  top10  \n",
       "0            4.0  2013                  23.0   True  \n",
       "1            6.0  2013                  32.0   True  \n",
       "2            3.0  2014                  31.0   True  \n",
       "3            7.0  2007                  19.0   True  \n",
       "4            7.0  2011                  20.0   True  "
      ]
     },
     "execution_count": 149,
     "metadata": {},
     "output_type": "execute_result"
    }
   ],
   "source": [
    "final_df.head()"
   ]
  },
  {
   "cell_type": "code",
   "execution_count": 151,
   "metadata": {},
   "outputs": [],
   "source": [
    "# Export to csv final for use in project write up\n",
    "final_df.to_csv('cleaned.csv')"
   ]
  }
 ],
 "metadata": {
  "kernelspec": {
   "display_name": "Python 3",
   "language": "python",
   "name": "python3"
  },
  "language_info": {
   "codemirror_mode": {
    "name": "ipython",
    "version": 3
   },
   "file_extension": ".py",
   "mimetype": "text/x-python",
   "name": "python",
   "nbconvert_exporter": "python",
   "pygments_lexer": "ipython3",
   "version": "3.8.5"
  }
 },
 "nbformat": 4,
 "nbformat_minor": 4
}
